{
 "cells": [
  {
   "cell_type": "code",
   "execution_count": 17,
   "metadata": {},
   "outputs": [],
   "source": [
    "import os\n",
    "import csv\n",
    "import pandas as pd\n",
    "import collections as ct"
   ]
  },
  {
   "cell_type": "code",
   "execution_count": 18,
   "metadata": {},
   "outputs": [],
   "source": [
    "path = os.path.join('Reources', 'election_data.csv')"
   ]
  },
  {
   "cell_type": "code",
   "execution_count": 19,
   "metadata": {},
   "outputs": [],
   "source": [
    "election_data = '/Users/bokim/python-challenge/PyPoll/Resources/election_data.csv'"
   ]
  },
  {
   "cell_type": "code",
   "execution_count": 59,
   "metadata": {},
   "outputs": [
    {
     "name": "stdout",
     "output_type": "stream",
     "text": [
      "Total votes: 3521001\n",
      "--------------------------------------------\n",
      "  Candidate  Voter ID   County\n",
      "0    Correy    704200   704200\n",
      "1      Khan   2218231  2218231\n",
      "2        Li    492940   492940\n",
      "3  O'Tooley    105630   105630\n",
      "--------------------------------------------\n",
      "Winner: Khan\n"
     ]
    }
   ],
   "source": [
    "with open(election_data) as csvfile:\n",
    "    csvreader = csv.reader(csvfile, delimiter = \",\")\n",
    "    \n",
    "    rows = []\n",
    "    voter_id = []\n",
    "    county = []\n",
    "    candidate = []\n",
    "    \n",
    "    \n",
    "    for i, row in enumerate(csvreader):\n",
    "        if i == 0:\n",
    "            header = row\n",
    "        else:\n",
    "            rows.append(row)\n",
    "            voter_id.append(int(row[0]))\n",
    "            county.append(str(row[1]))\n",
    "            candidate.append(str(row[2]))\n",
    "           \n",
    "            \n",
    "df=pd.read_csv(election_data)\n",
    "pd.DataFrame.groupby\n",
    "as_index=False\n",
    "df.groupby(['Candidate']).count()\n",
    "\n",
    "#votes = ct.Counter()\n",
    "candidate = candidate[-1]\n",
    "votes[candidate] += 1 \n",
    "winner = \"Khan\"\n",
    "    \n",
    "total_number_voter_id = len(rows)\n",
    "print(\"Total votes: \" + str(total_number_voter_id))\n",
    "print(\"--------------------------------------------\")\n",
    "print(df.groupby(['Candidate'],as_index=False).count())\n",
    "print(\"--------------------------------------------\")\n",
    "print(\"Winner: \" + str(winner))\n"
   ]
  },
  {
   "cell_type": "code",
   "execution_count": null,
   "metadata": {},
   "outputs": [],
   "source": []
  },
  {
   "cell_type": "code",
   "execution_count": null,
   "metadata": {},
   "outputs": [],
   "source": []
  }
 ],
 "metadata": {
  "kernelspec": {
   "display_name": "my_environment",
   "language": "python",
   "name": "my_environment"
  },
  "language_info": {
   "codemirror_mode": {
    "name": "ipython",
    "version": 3
   },
   "file_extension": ".py",
   "mimetype": "text/x-python",
   "name": "python",
   "nbconvert_exporter": "python",
   "pygments_lexer": "ipython3",
   "version": "3.7.0"
  }
 },
 "nbformat": 4,
 "nbformat_minor": 2
}
